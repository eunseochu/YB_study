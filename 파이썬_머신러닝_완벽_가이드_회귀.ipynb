{
  "nbformat": 4,
  "nbformat_minor": 0,
  "metadata": {
    "colab": {
      "provenance": [],
      "authorship_tag": "ABX9TyOWFJRbLsPO89UtJoLZ9Zap",
      "include_colab_link": true
    },
    "kernelspec": {
      "name": "python3",
      "display_name": "Python 3"
    },
    "language_info": {
      "name": "python"
    }
  },
  "cells": [
    {
      "cell_type": "markdown",
      "metadata": {
        "id": "view-in-github",
        "colab_type": "text"
      },
      "source": [
        "<a href=\"https://colab.research.google.com/github/eunseochu/YB_study/blob/main/%ED%8C%8C%EC%9D%B4%EC%8D%AC_%EB%A8%B8%EC%8B%A0%EB%9F%AC%EB%8B%9D_%EC%99%84%EB%B2%BD_%EA%B0%80%EC%9D%B4%EB%93%9C_%ED%9A%8C%EA%B7%80.ipynb\" target=\"_parent\"><img src=\"https://colab.research.google.com/assets/colab-badge.svg\" alt=\"Open In Colab\"/></a>"
      ]
    },
    {
      "cell_type": "markdown",
      "source": [
        "# **01) 개요**"
      ],
      "metadata": {
        "id": "jXKUuCvqZQ3S"
      }
    },
    {
      "cell_type": "markdown",
      "source": [
        "**선형 회귀** <br/>\n",
        "실제값과 예측값의 차이인 오류를 최소로 줄일 수 있는 선형 함수를 찾아서, <br/>\n",
        "이 선형 함수에 독립변수를 입력해 종속변수를 예측하는 것\n",
        "- 최적의 선형 함수를 찾기 위해 실제값과 예측값 차이의 제곱을 회귀 계수 W를 변수로 하는 비용 함수 생성\n",
        "- 비용 함수가 최소화가 되는 W 값을 찾아 선형 함수를 도출\n",
        "- 비용 함수를 최소화할 수 있는 방법으로 경사 하강법 사용"
      ],
      "metadata": {
        "id": "HwyAxQ3tr_8j"
      }
    },
    {
      "cell_type": "markdown",
      "source": [
        "**규제** <br/>\n",
        "실제값과 예측값의 차이를 최소화하는 거에만 초점을 두는 경우 학습 데이터가 과적합될 수 있어 도입\n",
        "- L2 규제를 적용한 릿지, L1 규제를 적용한 라쏘, L1에 L2를 결합한 엘라스틱넷"
      ],
      "metadata": {
        "id": "55Iv9n1JshxX"
      }
    },
    {
      "cell_type": "markdown",
      "source": [
        "**로지스틱 회귀** <Br/>\n",
        "선형 회귀를 분류에 적용한 모델로, 분류를 위한 알고리즘\n",
        "- 최적의 시그모이드 함수를 도출하고 독립 변수를 시그모이드 함수에 입력해 <Br/>\n",
        "반환된 결과를 확률값으로 변환해 예측 레이블을 결정\n",
        "- 이진 분류나 희소 행렬로 표현되는 텍스트 기반의 분류에서 높은 예측 성능을 나타냄"
      ],
      "metadata": {
        "id": "XTZwFbt5s_jr"
      }
    },
    {
      "cell_type": "markdown",
      "source": [
        "**회귀 트리** <br/>\n",
        "분류를 위해 만들어진 분류 트리와 다르지 않지만, 예측 결정 값을 만드는 과정에서 차이가 존재\n",
        "- 리프 노드에 속한 데이터 값의 평균값을 구해 회귀 예측 값을 계산\n",
        "- 결정 트리, 랜덤 포레스트, GBM, XGBoost, LightGBM"
      ],
      "metadata": {
        "id": "_BUwWVqWtS-2"
      }
    },
    {
      "cell_type": "markdown",
      "source": [
        "**로그 변환** <Br/>\n",
        "선형 모델을 기반으로 하는 선형 회귀는 데이터 값의 분포도와 인코딩 방법에 많은 영향을 받음\n",
        "- 데이터 값의 분포도가 정규 분포와 같이 종 모양의 형태를 선호\n",
        "- 타깃값의 분포도가 왜곡되지 않고 정규 분포 형태로 되어야 예측 성능을 저하시키지 않음\n",
        "- 왜곡된 데이터 분포도를 가지고 있을 경우 로그 변환을 적용하는 것이 유용함\n",
        "- 카테고리형 데이터의 경우 레이블 인코딩 보다는 원-핫 이코딩으로 변환해주어야 함"
      ],
      "metadata": {
        "id": "MUxKqsPmtgEW"
      }
    },
    {
      "cell_type": "markdown",
      "source": [
        "# **02) 단순 선형 회귀** "
      ],
      "metadata": {
        "id": "oN23syq_aDFh"
      }
    },
    {
      "cell_type": "markdown",
      "source": [
        "#### **단순 선형 회귀** <br/>\n",
        "독립변수도 하나, 종속변수도 하나인 선형 회귀"
      ],
      "metadata": {
        "id": "1apsYaBLaVfn"
      }
    },
    {
      "cell_type": "markdown",
      "source": [
        "#### **잔차** <br/>\n",
        "실제 값과 회귀 모델의 차이에 따른 오류 값\n",
        "- 전체 데이터의 잔차 합이 최소가 되는 모델이 최적의 모델\n",
        "- 도이에 오류 값 합이 최소가 될 수 있는 최적의 회귀 계수를 찾음"
      ],
      "metadata": {
        "id": "vThqcUc3aeVy"
      }
    },
    {
      "cell_type": "markdown",
      "source": [
        "#### **오류 합을 계산하는 방법**\n",
        "- RSS (Residual Sum of Square): 오류 값의 제곱을 구해서 더하는 방식\n",
        "- MAE (Mean Absolute Error): 절댓값을 취해서 더하는 방식\n",
        "- 일반적으로 미분 등의 계산을 편하게 하기 위해 RSS 방식 사용"
      ],
      "metadata": {
        "id": "ns93JJuiajJF"
      }
    },
    {
      "cell_type": "markdown",
      "source": [
        "# **03) 경사 하강법(Gradient Descent)**"
      ],
      "metadata": {
        "id": "DhWGQ2Kka8pD"
      }
    },
    {
      "cell_type": "markdown",
      "source": [
        "#### **경사 하강법이란?** <br/>\n",
        "점진적으로 반복적인 계산을 통해 W 파라미터 값을 업데이트하면서 오류 값이 최소가 되는 W 파라미터를 구하는 방식\n",
        "- 회귀식의 독립변수 X, 종속변수 Y가 아닌 w 변수(회귀 계수)가 중심 변수\n",
        "- RSS는 비용(Cost)이며 w 변수로 구성되는 RSS를 비용 함수(손실 함수)라고 간주\n",
        "- 비용 함수가 최소가 되는 W 파라미터를 구하는 방식"
      ],
      "metadata": {
        "id": "_QmCDfqBbA1z"
      }
    },
    {
      "cell_type": "markdown",
      "source": [
        "#### **경사 하강법의 핵심** <br/>\n",
        "비용 함수 RSS(w0, w1)를 미분해 미분 함수의 최소값을 구해야 함\n",
        "- R(w)는 두 개의 파라미터로 이루어져있기 때문에, 순차적으로 편미분을 수행\n",
        "- w1, w0의 편미분 결과값을 반보적으로 보정하면서 업데이트하면 R(w)가 최소가 되는 w1, w0을 구할 수 있음\n",
        "- 업데이트는 새로운 w1을 이전 w1에서 편미분 결괏값을 마이너스 하면서 적용"
      ],
      "metadata": {
        "id": "bv51ri7dbrOD"
      }
    },
    {
      "cell_type": "markdown",
      "source": [
        "#### **경사 하강법의 단점** <br/>\n",
        "모든 학습 데이터에 대해 반복적으로 비용하무 최소화를 위한 값을 업데이트하므로 수행 시간이 매우 오래걸림\n",
        "- 실전에서는 확률적 경사 하강법을 이용\n",
        "- 대용량 데이터의 경우 확률적 경사 하강법이나 미니 배치 확률적 경사 하강법을 이용\n",
        " - 일부 데이터만 이용해 w가 업데이트되는 값을 계산하므로 빠른 속도를 보장"
      ],
      "metadata": {
        "id": "rT47STeZcF0W"
      }
    },
    {
      "cell_type": "markdown",
      "source": [
        "# **05) 다항 회귀와 과대적합/과소적합**"
      ],
      "metadata": {
        "id": "Y8tYtCX3chZ9"
      }
    },
    {
      "cell_type": "markdown",
      "source": [
        "#### **다항 회귀란?** <br/>\n",
        "회귀가 독립 변수의 단항식이 아닌 2차, 3차 방정식과 같은 다항식으로 표현되는 것\n",
        "- 다항 회귀는 선형 회귀이며, 회귀의 선형 여부는 독립 변수의 선형/비선형 여부와는 무관함\n",
        "- 회귀 계수가 선형인지 비선형인지에 따라 선형 회귀인지 비선형 회귀인지 나뉨\n",
        "- 비선형 함수를 선형 모델에 적용시키는 방법을 사용해 구현"
      ],
      "metadata": {
        "id": "F4ZvhOfgcl4-"
      }
    },
    {
      "cell_type": "markdown",
      "source": [
        "#### **과소적합 및 과적합** <Br/>\n",
        "다항식의 차수가 높아질수록 매우 복잡한 피처 간의 관계까지 모델링이 가능함\n",
        "- 다항 회귀의 차수를 높일수록 학습 데이터에만 너무 맞춘 학습이 이뤄지므로, <br/>\n",
        "정작 테스트 데이터 환경에서는 오히려 예측 정확도가 떨어짐\n",
        "- 차수가 높아질수록 과적합의 문제가 크게 발생"
      ],
      "metadata": {
        "id": "WECtezCJdCiw"
      }
    },
    {
      "cell_type": "markdown",
      "source": [
        "#### **편향-분산 트레이드오프** <br/>\n",
        "머신러닝이 극복해야 할 가장 중요한 이슈 중 하나\n",
        "- 일반적으로 편향과 분산은 한 쪽이 높으면 한 쪽이 낮아지는 경향이 있음\n",
        " - 편향이 높으면 분산은 낮아지고, 분산이 높으면 편향이 낮아짐\n",
        " - 편향이 너무 높으면 전체 오류가 높고, 편향을 점점 낮추면 분산이 높아지고 전체 오류가 낮아짐\n",
        "- 편향을 낮추고 분산을 높이면서 전체 오류가 가장 낮아지는 '골디락스' 지점을 통과하며 분산을 지속적으로 높이면, <br/> 전체 오류 값이 오히려 증가하면서 예측 성능이 다시 저하됨"
      ],
      "metadata": {
        "id": "jdlWS0JrdR9U"
      }
    },
    {
      "cell_type": "markdown",
      "source": [
        "# **06) 규제 선형 모델**"
      ],
      "metadata": {
        "id": "d9pE_g-_jaXh"
      }
    },
    {
      "cell_type": "markdown",
      "source": [
        "#### **규제 선형 모델의 개요** <br/>\n",
        "실제 값과 예측 값의 차이를 최소하는 것만 고려하다보면, 학습 데이터에 지나치게 맞추게 되고 회귀 계수가 쉽게 커짐\n",
        "- 변동성이 오히려 심해져서 테스트 데이터 세트에서는 예측 성능이 저하되기 쉬움\n",
        "- 비용 함수는 학습 데이터의 잔차 오류 값을 최소로 하는 RSS 최소화 방법과, <br/>\n",
        " 과적합을 방지하기 위해 회귀 계수 값이 커지지 않도록 하는 방법이 서로 균형을 이루어야 함"
      ],
      "metadata": {
        "id": "0b5gwlTHjo8E"
      }
    },
    {
      "cell_type": "markdown",
      "source": [
        "#### **튜닝 파라미터 alpha** <br/>\n",
        "- 학습 데이터 적합 정도와 회귀 계수 값의 크기 제어를 수행하는 튜닝 파라미터 도입\n",
        " - alpha가 0 인 경우는 회귀 계수 W가 커도 비용 함수는 Min(RSS(W))\n",
        " - alpha가 무한대인 경우 비용 함수는 W를 0에 가깝게 최소화해야 함\n",
        "- alpha를 0에서부터 지속적으로 값을 증가시키면 회귀 계수 값의 크기를 감소시킬 수 있음"
      ],
      "metadata": {
        "id": "F1vYvRG7kFTv"
      }
    },
    {
      "cell_type": "markdown",
      "source": [
        "#### **규제(Regularization)** <br/>\n",
        "비용 함수에 alpha 값으로 페널티를 부여해 회귀 계수 값의 크기를 감소시켜 과적합을 개선하는 방식\n",
        "- L2: W의 제곱에 대해 페널티를 부여하는 방식 (릿지 회귀)\n",
        "- L1: W의 절대값에 대해 페널티를 부여하는 방식 (라쏘 회귀)\n",
        " - 영향력이 크지 않은 회귀 계수 값을 0으로 변환"
      ],
      "metadata": {
        "id": "1stRN_0Cknzo"
      }
    },
    {
      "cell_type": "markdown",
      "source": [
        "#### **릿지 회귀** <br/>\n",
        "alpha 값이 커질수록 회귀 계수 값을 작게 만듦"
      ],
      "metadata": {
        "id": "ijvORPCik0vg"
      }
    },
    {
      "cell_type": "code",
      "source": [
        "import numpy as np\n",
        "import matplotlib.pyplot as plt\n",
        "import pandas as pd\n",
        "import seaborn as sns\n",
        "from sklearn.datasets import load_boston\n",
        "\n",
        "from sklearn.linear_model import Ridge\n",
        "from sklearn.model_selection import cross_val_score\n",
        "\n",
        "# boston 데이타셋 로드\n",
        "boston = load_boston()\n",
        "\n",
        "# boston 데이타셋 DataFrame 변환 \n",
        "bostonDF = pd.DataFrame(boston.data , columns = boston.feature_names)\n",
        "\n",
        "# boston dataset의 target array는 주택 가격임. 이를 PRICE 컬럼으로 DataFrame에 추가함. \n",
        "bostonDF['PRICE'] = boston.target\n",
        "\n",
        "y_target = bostonDF['PRICE']\n",
        "X_data = bostonDF.drop(['PRICE'],axis=1,inplace=False)\n",
        "\n",
        "\n",
        "ridge = Ridge(alpha = 10)\n",
        "neg_mse_scores = cross_val_score(ridge, X_data, y_target, scoring=\"neg_mean_squared_error\", cv = 5)\n",
        "rmse_scores  = np.sqrt(-1 * neg_mse_scores)\n",
        "avg_rmse = np.mean(rmse_scores)\n",
        "print(' 5 folds 의 개별 Negative MSE scores: ', np.round(neg_mse_scores, 3))\n",
        "print(' 5 folds 의 개별 RMSE scores : ', np.round(rmse_scores,3))\n",
        "print(' 5 folds 의 평균 RMSE : {0:.3f} '.format(avg_rmse))"
      ],
      "metadata": {
        "colab": {
          "base_uri": "https://localhost:8080/"
        },
        "id": "dUDW7iHSaRXv",
        "outputId": "2ddd5141-6780-420d-8e4a-77833826fc9f"
      },
      "execution_count": 3,
      "outputs": [
        {
          "output_type": "stream",
          "name": "stdout",
          "text": [
            " 5 folds 의 개별 Negative MSE scores:  [-11.422 -24.294 -28.144 -74.599 -28.517]\n",
            " 5 folds 의 개별 RMSE scores :  [3.38  4.929 5.305 8.637 5.34 ]\n",
            " 5 folds 의 평균 RMSE : 5.518 \n"
          ]
        },
        {
          "output_type": "stream",
          "name": "stderr",
          "text": [
            "/usr/local/lib/python3.8/dist-packages/sklearn/utils/deprecation.py:87: FutureWarning: Function load_boston is deprecated; `load_boston` is deprecated in 1.0 and will be removed in 1.2.\n",
            "\n",
            "    The Boston housing prices dataset has an ethical problem. You can refer to\n",
            "    the documentation of this function for further details.\n",
            "\n",
            "    The scikit-learn maintainers therefore strongly discourage the use of this\n",
            "    dataset unless the purpose of the code is to study and educate about\n",
            "    ethical issues in data science and machine learning.\n",
            "\n",
            "    In this special case, you can fetch the dataset from the original\n",
            "    source::\n",
            "\n",
            "        import pandas as pd\n",
            "        import numpy as np\n",
            "\n",
            "\n",
            "        data_url = \"http://lib.stat.cmu.edu/datasets/boston\"\n",
            "        raw_df = pd.read_csv(data_url, sep=\"\\s+\", skiprows=22, header=None)\n",
            "        data = np.hstack([raw_df.values[::2, :], raw_df.values[1::2, :2]])\n",
            "        target = raw_df.values[1::2, 2]\n",
            "\n",
            "    Alternative datasets include the California housing dataset (i.e.\n",
            "    :func:`~sklearn.datasets.fetch_california_housing`) and the Ames housing\n",
            "    dataset. You can load the datasets as follows::\n",
            "\n",
            "        from sklearn.datasets import fetch_california_housing\n",
            "        housing = fetch_california_housing()\n",
            "\n",
            "    for the California housing dataset and::\n",
            "\n",
            "        from sklearn.datasets import fetch_openml\n",
            "        housing = fetch_openml(name=\"house_prices\", as_frame=True)\n",
            "\n",
            "    for the Ames housing dataset.\n",
            "    \n",
            "  warnings.warn(msg, category=FutureWarning)\n"
          ]
        }
      ]
    },
    {
      "cell_type": "code",
      "source": [
        "# Ridge에 사용될 alpha 파라미터의 값들을 정의\n",
        "alphas = [0 , 0.1 , 1 , 10 , 100]\n",
        "\n",
        "# alphas list 값을 iteration하면서 alpha에 따른 평균 rmse 구함.\n",
        "for alpha in alphas :\n",
        "    ridge = Ridge(alpha = alpha)\n",
        "    \n",
        "    #cross_val_score를 이용하여 5 fold의 평균 RMSE 계산\n",
        "    neg_mse_scores = cross_val_score(ridge, X_data, y_target, scoring=\"neg_mean_squared_error\", cv = 5)\n",
        "    avg_rmse = np.mean(np.sqrt(-1 * neg_mse_scores))\n",
        "    print('alpha {0} 일 때 5 folds 의 평균 RMSE : {1:.3f} '.format(alpha,avg_rmse))"
      ],
      "metadata": {
        "colab": {
          "base_uri": "https://localhost:8080/"
        },
        "id": "P-51Nxzel0aV",
        "outputId": "4345c3b9-9b2d-467c-dfaa-7cf02c86b634"
      },
      "execution_count": 5,
      "outputs": [
        {
          "output_type": "stream",
          "name": "stdout",
          "text": [
            "alpha 0 일 때 5 folds 의 평균 RMSE : 5.829 \n",
            "alpha 0.1 일 때 5 folds 의 평균 RMSE : 5.788 \n",
            "alpha 1 일 때 5 folds 의 평균 RMSE : 5.653 \n",
            "alpha 10 일 때 5 folds 의 평균 RMSE : 5.518 \n",
            "alpha 100 일 때 5 folds 의 평균 RMSE : 5.330 \n"
          ]
        }
      ]
    },
    {
      "cell_type": "code",
      "source": [
        "# 각 alpha에 따른 회귀 계수 값을 시각화하기 위해 5개의 열로 된 맷플롯립 축 생성  \n",
        "fig , axs = plt.subplots(figsize=(18,6) , nrows=1 , ncols=5)\n",
        "# 각 alpha에 따른 회귀 계수 값을 데이터로 저장하기 위한 DataFrame 생성  \n",
        "coeff_df = pd.DataFrame()\n",
        "\n",
        "# alphas 리스트 값을 차례로 입력해 회귀 계수 값 시각화 및 데이터 저장. pos는 axis의 위치 지정\n",
        "for pos , alpha in enumerate(alphas) :\n",
        "    ridge = Ridge(alpha = alpha)\n",
        "    ridge.fit(X_data , y_target)\n",
        "    # alpha에 따른 피처별 회귀 계수를 Series로 변환하고 이를 DataFrame의 컬럼으로 추가.  \n",
        "    coeff = pd.Series(data=ridge.coef_ , index=X_data.columns )\n",
        "    colname='alpha:'+str(alpha)\n",
        "    coeff_df[colname] = coeff\n",
        "    # 막대 그래프로 각 alpha 값에서의 회귀 계수를 시각화. 회귀 계수값이 높은 순으로 표현\n",
        "    coeff = coeff.sort_values(ascending=False)\n",
        "    axs[pos].set_title(colname)\n",
        "    axs[pos].set_xlim(-3,6)\n",
        "    sns.barplot(x=coeff.values , y=coeff.index, ax=axs[pos])\n",
        "\n",
        "# for 문 바깥에서 맷플롯립의 show 호출 및 alpha에 따른 피처별 회귀 계수를 DataFrame으로 표시\n",
        "plt.show()"
      ],
      "metadata": {
        "colab": {
          "base_uri": "https://localhost:8080/",
          "height": 244
        },
        "id": "QUHjubx4mHjr",
        "outputId": "1be6062f-a0c9-4c73-cd80-735eb4822775"
      },
      "execution_count": 6,
      "outputs": [
        {
          "output_type": "display_data",
          "data": {
            "text/plain": [
              "<Figure size 1296x432 with 5 Axes>"
            ],
            "image/png": "[encoded data removed]"
          },
          "metadata": {
            "needs_background": "light"
          }
        }
      ]
    },
    {
      "cell_type": "code",
      "source": [
        "ridge_alphas = [0 , 0.1 , 1 , 10 , 100]\n",
        "sort_column = 'alpha:'+str(ridge_alphas[0])\n",
        "coeff_df.sort_values(by=sort_column, ascending=False)"
      ],
      "metadata": {
        "colab": {
          "base_uri": "https://localhost:8080/",
          "height": 457
        },
        "id": "z_jmQTl1mPUr",
        "outputId": "314ade93-2cbd-405c-9214-a5fc6274dd00"
      },
      "execution_count": 7,
      "outputs": [
        {
          "output_type": "execute_result",
          "data": {
            "text/plain": [
              "           alpha:0  alpha:0.1    alpha:1  alpha:10  alpha:100\n",
              "RM        3.809865   3.818233   3.854000  3.702272   2.334536\n",
              "CHAS      2.686734   2.670019   2.552393  1.952021   0.638335\n",
              "RAD       0.306049   0.303515   0.290142  0.279596   0.315358\n",
              "ZN        0.046420   0.046572   0.047443  0.049579   0.054496\n",
              "INDUS     0.020559   0.015999  -0.008805 -0.042962  -0.052826\n",
              "B         0.009312   0.009368   0.009673  0.010037   0.009393\n",
              "AGE       0.000692  -0.000269  -0.005415 -0.010707   0.001212\n",
              "TAX      -0.012335  -0.012421  -0.012912 -0.013993  -0.015856\n",
              "CRIM     -0.108011  -0.107474  -0.104595 -0.101435  -0.102202\n",
              "LSTAT    -0.524758  -0.525966  -0.533343 -0.559366  -0.660764\n",
              "PTRATIO  -0.952747  -0.940759  -0.876074 -0.797945  -0.829218\n",
              "DIS      -1.475567  -1.459626  -1.372654 -1.248808  -1.153390\n",
              "NOX     -17.766611 -16.684645 -10.777015 -2.371619  -0.262847"
            ],
            "text/html": [
              "\n",
              "  <div id=\"df-ee507fc7-d4ff-428a-84d3-e041d4980688\">\n",
              "    <div class=\"colab-df-container\">\n",
              "      <div>\n",
              "<style scoped>\n",
              "    .dataframe tbody tr th:only-of-type {\n",
              "        vertical-align: middle;\n",
              "    }\n",
              "\n",
              "    .dataframe tbody tr th {\n",
              "        vertical-align: top;\n",
              "    }\n",
              "\n",
              "    .dataframe thead th {\n",
              "        text-align: right;\n",
              "    }\n",
              "</style>\n",
              "<table border=\"1\" class=\"dataframe\">\n",
              "  <thead>\n",
              "    <tr style=\"text-align: right;\">\n",
              "      <th></th>\n",
              "      <th>alpha:0</th>\n",
              "      <th>alpha:0.1</th>\n",
              "      <th>alpha:1</th>\n",
              "      <th>alpha:10</th>\n",
              "      <th>alpha:100</th>\n",
              "    </tr>\n",
              "  </thead>\n",
              "  <tbody>\n",
              "    <tr>\n",
              "      <th>RM</th>\n",
              "      <td>3.809865</td>\n",
              "      <td>3.818233</td>\n",
              "      <td>3.854000</td>\n",
              "      <td>3.702272</td>\n",
              "      <td>2.334536</td>\n",
              "    </tr>\n",
              "    <tr>\n",
              "      <th>CHAS</th>\n",
              "      <td>2.686734</td>\n",
              "      <td>2.670019</td>\n",
              "      <td>2.552393</td>\n",
              "      <td>1.952021</td>\n",
              "      <td>0.638335</td>\n",
              "    </tr>\n",
              "    <tr>\n",
              "      <th>RAD</th>\n",
              "      <td>0.306049</td>\n",
              "      <td>0.303515</td>\n",
              "      <td>0.290142</td>\n",
              "      <td>0.279596</td>\n",
              "      <td>0.315358</td>\n",
              "    </tr>\n",
              "    <tr>\n",
              "      <th>ZN</th>\n",
              "      <td>0.046420</td>\n",
              "      <td>0.046572</td>\n",
              "      <td>0.047443</td>\n",
              "      <td>0.049579</td>\n",
              "      <td>0.054496</td>\n",
              "    </tr>\n",
              "    <tr>\n",
              "      <th>INDUS</th>\n",
              "      <td>0.020559</td>\n",
              "      <td>0.015999</td>\n",
              "      <td>-0.008805</td>\n",
              "      <td>-0.042962</td>\n",
              "      <td>-0.052826</td>\n",
              "    </tr>\n",
              "    <tr>\n",
              "      <th>B</th>\n",
              "      <td>0.009312</td>\n",
              "      <td>0.009368</td>\n",
              "      <td>0.009673</td>\n",
              "      <td>0.010037</td>\n",
              "      <td>0.009393</td>\n",
              "    </tr>\n",
              "    <tr>\n",
              "      <th>AGE</th>\n",
              "      <td>0.000692</td>\n",
              "      <td>-0.000269</td>\n",
              "      <td>-0.005415</td>\n",
              "      <td>-0.010707</td>\n",
              "      <td>0.001212</td>\n",
              "    </tr>\n",
              "    <tr>\n",
              "      <th>TAX</th>\n",
              "      <td>-0.012335</td>\n",
              "      <td>-0.012421</td>\n",
              "      <td>-0.012912</td>\n",
              "      <td>-0.013993</td>\n",
              "      <td>-0.015856</td>\n",
              "    </tr>\n",
              "    <tr>\n",
              "      <th>CRIM</th>\n",
              "      <td>-0.108011</td>\n",
              "      <td>-0.107474</td>\n",
              "      <td>-0.104595</td>\n",
              "      <td>-0.101435</td>\n",
              "      <td>-0.102202</td>\n",
              "    </tr>\n",
              "    <tr>\n",
              "      <th>LSTAT</th>\n",
              "      <td>-0.524758</td>\n",
              "      <td>-0.525966</td>\n",
              "      <td>-0.533343</td>\n",
              "      <td>-0.559366</td>\n",
              "      <td>-0.660764</td>\n",
              "    </tr>\n",
              "    <tr>\n",
              "      <th>PTRATIO</th>\n",
              "      <td>-0.952747</td>\n",
              "      <td>-0.940759</td>\n",
              "      <td>-0.876074</td>\n",
              "      <td>-0.797945</td>\n",
              "      <td>-0.829218</td>\n",
              "    </tr>\n",
              "    <tr>\n",
              "      <th>DIS</th>\n",
              "      <td>-1.475567</td>\n",
              "      <td>-1.459626</td>\n",
              "      <td>-1.372654</td>\n",
              "      <td>-1.248808</td>\n",
              "      <td>-1.153390</td>\n",
              "    </tr>\n",
              "    <tr>\n",
              "      <th>NOX</th>\n",
              "      <td>-17.766611</td>\n",
              "      <td>-16.684645</td>\n",
              "      <td>-10.777015</td>\n",
              "      <td>-2.371619</td>\n",
              "      <td>-0.262847</td>\n",
              "    </tr>\n",
              "  </tbody>\n",
              "</table>\n",
              "</div>\n",
              "      <button class=\"colab-df-convert\" onclick=\"convertToInteractive('df-ee507fc7-d4ff-428a-84d3-e041d4980688')\"\n",
              "              title=\"Convert this dataframe to an interactive table.\"\n",
              "              style=\"display:none;\">\n",
              "        \n",
              "  <svg xmlns=\"http://www.w3.org/2000/svg\" height=\"24px\"viewBox=\"0 0 24 24\"\n",
              "       width=\"24px\">\n",
              "    <path d=\"M0 0h24v24H0V0z\" fill=\"none\"/>\n",
              "    <path d=\"M18.56 5.44l.94 2.06.94-2.06 2.06-.94-2.06-.94-.94-2.06-.94 2.06-2.06.94zm-11 1L8.5 8.5l.94-2.06 2.06-.94-2.06-.94L8.5 2.5l-.94 2.06-2.06.94zm10 10l.94 2.06.94-2.06 2.06-.94-2.06-.94-.94-2.06-.94 2.06-2.06.94z\"/><path d=\"M17.41 7.96l-1.37-1.37c-.4-.4-.92-.59-1.43-.59-.52 0-1.04.2-1.43.59L10.3 9.45l-7.72 7.72c-.78.78-.78 2.05 0 2.83L4 21.41c.39.39.9.59 1.41.59.51 0 1.02-.2 1.41-.59l7.78-7.78 2.81-2.81c.8-.78.8-2.07 0-2.86zM5.41 20L4 18.59l7.72-7.72 1.47 1.35L5.41 20z\"/>\n",
              "  </svg>\n",
              "      </button>\n",
              "      \n",
              "  <style>\n",
              "    .colab-df-container {\n",
              "      display:flex;\n",
              "      flex-wrap:wrap;\n",
              "      gap: 12px;\n",
              "    }\n",
              "\n",
              "    .colab-df-convert {\n",
              "      background-color: #E8F0FE;\n",
              "      border: none;\n",
              "      border-radius: 50%;\n",
              "      cursor: pointer;\n",
              "      display: none;\n",
              "      fill: #1967D2;\n",
              "      height: 32px;\n",
              "      padding: 0 0 0 0;\n",
              "      width: 32px;\n",
              "    }\n",
              "\n",
              "    .colab-df-convert:hover {\n",
              "      background-color: #E2EBFA;\n",
              "      box-shadow: 0px 1px 2px rgba(60, 64, 67, 0.3), 0px 1px 3px 1px rgba(60, 64, 67, 0.15);\n",
              "      fill: #174EA6;\n",
              "    }\n",
              "\n",
              "    [theme=dark] .colab-df-convert {\n",
              "      background-color: #3B4455;\n",
              "      fill: #D2E3FC;\n",
              "    }\n",
              "\n",
              "    [theme=dark] .colab-df-convert:hover {\n",
              "      background-color: #434B5C;\n",
              "      box-shadow: 0px 1px 3px 1px rgba(0, 0, 0, 0.15);\n",
              "      filter: drop-shadow(0px 1px 2px rgba(0, 0, 0, 0.3));\n",
              "      fill: #FFFFFF;\n",
              "    }\n",
              "  </style>\n",
              "\n",
              "      <script>\n",
              "        const buttonEl =\n",
              "          document.querySelector('#df-ee507fc7-d4ff-428a-84d3-e041d4980688 button.colab-df-convert');\n",
              "        buttonEl.style.display =\n",
              "          google.colab.kernel.accessAllowed ? 'block' : 'none';\n",
              "\n",
              "        async function convertToInteractive(key) {\n",
              "          const element = document.querySelector('#df-ee507fc7-d4ff-428a-84d3-e041d4980688');\n",
              "          const dataTable =\n",
              "            await google.colab.kernel.invokeFunction('convertToInteractive',\n",
              "                                                     [key], {});\n",
              "          if (!dataTable) return;\n",
              "\n",
              "          const docLinkHtml = 'Like what you see? Visit the ' +\n",
              "            '<a target=\"_blank\" href=https://colab.research.google.com/notebooks/data_table.ipynb>data table notebook</a>'\n",
              "            + ' to learn more about interactive tables.';\n",
              "          element.innerHTML = '';\n",
              "          dataTable['output_type'] = 'display_data';\n",
              "          await google.colab.output.renderOutput(dataTable, element);\n",
              "          const docLink = document.createElement('div');\n",
              "          docLink.innerHTML = docLinkHtml;\n",
              "          element.appendChild(docLink);\n",
              "        }\n",
              "      </script>\n",
              "    </div>\n",
              "  </div>\n",
              "  "
            ]
          },
          "metadata": {},
          "execution_count": 7
        }
      ]
    },
    {
      "cell_type": "markdown",
      "source": [
        "#### **라쏘 회귀** <br/>\n",
        "비용함수 식을 최소화하는 W를 찾는 것이 목표\n",
        "- 불필요한 회귀 계수를 급격하게 감소시켜 0으로 만들고 제거\n",
        "- 적절한 피처만 회귀에 포함시키는 피처 선택의 특성을 지님"
      ],
      "metadata": {
        "id": "pmNmtKM9mSTR"
      }
    },
    {
      "cell_type": "code",
      "source": [
        "from sklearn.linear_model import Lasso, ElasticNet\n",
        "\n",
        "# alpha값에 따른 회귀 모델의 폴드 평균 RMSE를 출력하고 회귀 계수값들을 DataFrame으로 반환 \n",
        "def get_linear_reg_eval(model_name, params=None, X_data_n=None, y_target_n=None, \n",
        "                        verbose=True, return_coeff=True):\n",
        "    coeff_df = pd.DataFrame()\n",
        "    if verbose : print('####### ', model_name , '#######')\n",
        "    for param in params:\n",
        "        if model_name =='Ridge': model = Ridge(alpha=param)\n",
        "        elif model_name =='Lasso': model = Lasso(alpha=param)\n",
        "        elif model_name =='ElasticNet': model = ElasticNet(alpha=param, l1_ratio=0.7)\n",
        "        neg_mse_scores = cross_val_score(model, X_data_n, \n",
        "                                             y_target_n, scoring=\"neg_mean_squared_error\", cv = 5)\n",
        "        avg_rmse = np.mean(np.sqrt(-1 * neg_mse_scores))\n",
        "        print('alpha {0}일 때 5 폴드 세트의 평균 RMSE: {1:.3f} '.format(param, avg_rmse))\n",
        "        # cross_val_score는 evaluation metric만 반환하므로 모델을 다시 학습하여 회귀 계수 추출\n",
        "        \n",
        "        model.fit(X_data_n , y_target_n)\n",
        "        if return_coeff:\n",
        "            # alpha에 따른 피처별 회귀 계수를 Series로 변환하고 이를 DataFrame의 컬럼으로 추가. \n",
        "            coeff = pd.Series(data=model.coef_ , index=X_data_n.columns )\n",
        "            colname='alpha:'+str(param)\n",
        "            coeff_df[colname] = coeff\n",
        "    \n",
        "    return coeff_df\n",
        "# end of get_linear_regre_eval"
      ],
      "metadata": {
        "id": "6qMiuPXSmQ2z"
      },
      "execution_count": 8,
      "outputs": []
    },
    {
      "cell_type": "code",
      "source": [
        "# 라쏘에 사용될 alpha 파라미터의 값들을 정의하고 get_linear_reg_eval() 함수 호출\n",
        "lasso_alphas = [ 0.07, 0.1, 0.5, 1, 3]\n",
        "coeff_lasso_df =get_linear_reg_eval('Lasso', params=lasso_alphas, X_data_n=X_data, y_target_n=y_target)"
      ],
      "metadata": {
        "colab": {
          "base_uri": "https://localhost:8080/"
        },
        "id": "rh6gCsG-mhuC",
        "outputId": "e84fee30-aab1-4bce-e7ee-fa11e466949c"
      },
      "execution_count": 9,
      "outputs": [
        {
          "output_type": "stream",
          "name": "stdout",
          "text": [
            "#######  Lasso #######\n",
            "alpha 0.07일 때 5 폴드 세트의 평균 RMSE: 5.612 \n",
            "alpha 0.1일 때 5 폴드 세트의 평균 RMSE: 5.615 \n",
            "alpha 0.5일 때 5 폴드 세트의 평균 RMSE: 5.669 \n",
            "alpha 1일 때 5 폴드 세트의 평균 RMSE: 5.776 \n",
            "alpha 3일 때 5 폴드 세트의 평균 RMSE: 6.189 \n"
          ]
        }
      ]
    },
    {
      "cell_type": "code",
      "source": [
        "# 반환된 coeff_lasso_df를 첫번째 컬럼순으로 내림차순 정렬하여 회귀계수 DataFrame출력\n",
        "sort_column = 'alpha:'+str(lasso_alphas[0])\n",
        "coeff_lasso_df.sort_values(by=sort_column, ascending=False)"
      ],
      "metadata": {
        "colab": {
          "base_uri": "https://localhost:8080/",
          "height": 457
        },
        "id": "T0IblZJumjTR",
        "outputId": "45717168-b043-478d-d362-70c1c38f23a4"
      },
      "execution_count": 10,
      "outputs": [
        {
          "output_type": "execute_result",
          "data": {
            "text/plain": [
              "         alpha:0.07  alpha:0.1  alpha:0.5   alpha:1   alpha:3\n",
              "RM         3.789725   3.703202   2.498212  0.949811  0.000000\n",
              "CHAS       1.434343   0.955190   0.000000  0.000000  0.000000\n",
              "RAD        0.270936   0.274707   0.277451  0.264206  0.061864\n",
              "ZN         0.049059   0.049211   0.049544  0.049165  0.037231\n",
              "B          0.010248   0.010249   0.009469  0.008247  0.006510\n",
              "NOX       -0.000000  -0.000000  -0.000000 -0.000000  0.000000\n",
              "AGE       -0.011706  -0.010037   0.003604  0.020910  0.042495\n",
              "TAX       -0.014290  -0.014570  -0.015442 -0.015212 -0.008602\n",
              "INDUS     -0.042120  -0.036619  -0.005253 -0.000000 -0.000000\n",
              "CRIM      -0.098193  -0.097894  -0.083289 -0.063437 -0.000000\n",
              "LSTAT     -0.560431  -0.568769  -0.656290 -0.761115 -0.807679\n",
              "PTRATIO   -0.765107  -0.770654  -0.758752 -0.722966 -0.265072\n",
              "DIS       -1.176583  -1.160538  -0.936605 -0.668790 -0.000000"
            ],
            "text/html": [
              "\n",
              "  <div id=\"df-ba1b0174-1f34-4557-a1c9-5cd798f547dd\">\n",
              "    <div class=\"colab-df-container\">\n",
              "      <div>\n",
              "<style scoped>\n",
              "    .dataframe tbody tr th:only-of-type {\n",
              "        vertical-align: middle;\n",
              "    }\n",
              "\n",
              "    .dataframe tbody tr th {\n",
              "        vertical-align: top;\n",
              "    }\n",
              "\n",
              "    .dataframe thead th {\n",
              "        text-align: right;\n",
              "    }\n",
              "</style>\n",
              "<table border=\"1\" class=\"dataframe\">\n",
              "  <thead>\n",
              "    <tr style=\"text-align: right;\">\n",
              "      <th></th>\n",
              "      <th>alpha:0.07</th>\n",
              "      <th>alpha:0.1</th>\n",
              "      <th>alpha:0.5</th>\n",
              "      <th>alpha:1</th>\n",
              "      <th>alpha:3</th>\n",
              "    </tr>\n",
              "  </thead>\n",
              "  <tbody>\n",
              "    <tr>\n",
              "      <th>RM</th>\n",
              "      <td>3.789725</td>\n",
              "      <td>3.703202</td>\n",
              "      <td>2.498212</td>\n",
              "      <td>0.949811</td>\n",
              "      <td>0.000000</td>\n",
              "    </tr>\n",
              "    <tr>\n",
              "      <th>CHAS</th>\n",
              "      <td>1.434343</td>\n",
              "      <td>0.955190</td>\n",
              "      <td>0.000000</td>\n",
              "      <td>0.000000</td>\n",
              "      <td>0.000000</td>\n",
              "    </tr>\n",
              "    <tr>\n",
              "      <th>RAD</th>\n",
              "      <td>0.270936</td>\n",
              "      <td>0.274707</td>\n",
              "      <td>0.277451</td>\n",
              "      <td>0.264206</td>\n",
              "      <td>0.061864</td>\n",
              "    </tr>\n",
              "    <tr>\n",
              "      <th>ZN</th>\n",
              "      <td>0.049059</td>\n",
              "      <td>0.049211</td>\n",
              "      <td>0.049544</td>\n",
              "      <td>0.049165</td>\n",
              "      <td>0.037231</td>\n",
              "    </tr>\n",
              "    <tr>\n",
              "      <th>B</th>\n",
              "      <td>0.010248</td>\n",
              "      <td>0.010249</td>\n",
              "      <td>0.009469</td>\n",
              "      <td>0.008247</td>\n",
              "      <td>0.006510</td>\n",
              "    </tr>\n",
              "    <tr>\n",
              "      <th>NOX</th>\n",
              "      <td>-0.000000</td>\n",
              "      <td>-0.000000</td>\n",
              "      <td>-0.000000</td>\n",
              "      <td>-0.000000</td>\n",
              "      <td>0.000000</td>\n",
              "    </tr>\n",
              "    <tr>\n",
              "      <th>AGE</th>\n",
              "      <td>-0.011706</td>\n",
              "      <td>-0.010037</td>\n",
              "      <td>0.003604</td>\n",
              "      <td>0.020910</td>\n",
              "      <td>0.042495</td>\n",
              "    </tr>\n",
              "    <tr>\n",
              "      <th>TAX</th>\n",
              "      <td>-0.014290</td>\n",
              "      <td>-0.014570</td>\n",
              "      <td>-0.015442</td>\n",
              "      <td>-0.015212</td>\n",
              "      <td>-0.008602</td>\n",
              "    </tr>\n",
              "    <tr>\n",
              "      <th>INDUS</th>\n",
              "      <td>-0.042120</td>\n",
              "      <td>-0.036619</td>\n",
              "      <td>-0.005253</td>\n",
              "      <td>-0.000000</td>\n",
              "      <td>-0.000000</td>\n",
              "    </tr>\n",
              "    <tr>\n",
              "      <th>CRIM</th>\n",
              "      <td>-0.098193</td>\n",
              "      <td>-0.097894</td>\n",
              "      <td>-0.083289</td>\n",
              "      <td>-0.063437</td>\n",
              "      <td>-0.000000</td>\n",
              "    </tr>\n",
              "    <tr>\n",
              "      <th>LSTAT</th>\n",
              "      <td>-0.560431</td>\n",
              "      <td>-0.568769</td>\n",
              "      <td>-0.656290</td>\n",
              "      <td>-0.761115</td>\n",
              "      <td>-0.807679</td>\n",
              "    </tr>\n",
              "    <tr>\n",
              "      <th>PTRATIO</th>\n",
              "      <td>-0.765107</td>\n",
              "      <td>-0.770654</td>\n",
              "      <td>-0.758752</td>\n",
              "      <td>-0.722966</td>\n",
              "      <td>-0.265072</td>\n",
              "    </tr>\n",
              "    <tr>\n",
              "      <th>DIS</th>\n",
              "      <td>-1.176583</td>\n",
              "      <td>-1.160538</td>\n",
              "      <td>-0.936605</td>\n",
              "      <td>-0.668790</td>\n",
              "      <td>-0.000000</td>\n",
              "    </tr>\n",
              "  </tbody>\n",
              "</table>\n",
              "</div>\n",
              "      <button class=\"colab-df-convert\" onclick=\"convertToInteractive('df-ba1b0174-1f34-4557-a1c9-5cd798f547dd')\"\n",
              "              title=\"Convert this dataframe to an interactive table.\"\n",
              "              style=\"display:none;\">\n",
              "        \n",
              "  <svg xmlns=\"http://www.w3.org/2000/svg\" height=\"24px\"viewBox=\"0 0 24 24\"\n",
              "       width=\"24px\">\n",
              "    <path d=\"M0 0h24v24H0V0z\" fill=\"none\"/>\n",
              "    <path d=\"M18.56 5.44l.94 2.06.94-2.06 2.06-.94-2.06-.94-.94-2.06-.94 2.06-2.06.94zm-11 1L8.5 8.5l.94-2.06 2.06-.94-2.06-.94L8.5 2.5l-.94 2.06-2.06.94zm10 10l.94 2.06.94-2.06 2.06-.94-2.06-.94-.94-2.06-.94 2.06-2.06.94z\"/><path d=\"M17.41 7.96l-1.37-1.37c-.4-.4-.92-.59-1.43-.59-.52 0-1.04.2-1.43.59L10.3 9.45l-7.72 7.72c-.78.78-.78 2.05 0 2.83L4 21.41c.39.39.9.59 1.41.59.51 0 1.02-.2 1.41-.59l7.78-7.78 2.81-2.81c.8-.78.8-2.07 0-2.86zM5.41 20L4 18.59l7.72-7.72 1.47 1.35L5.41 20z\"/>\n",
              "  </svg>\n",
              "      </button>\n",
              "      \n",
              "  <style>\n",
              "    .colab-df-container {\n",
              "      display:flex;\n",
              "      flex-wrap:wrap;\n",
              "      gap: 12px;\n",
              "    }\n",
              "\n",
              "    .colab-df-convert {\n",
              "      background-color: #E8F0FE;\n",
              "      border: none;\n",
              "      border-radius: 50%;\n",
              "      cursor: pointer;\n",
              "      display: none;\n",
              "      fill: #1967D2;\n",
              "      height: 32px;\n",
              "      padding: 0 0 0 0;\n",
              "      width: 32px;\n",
              "    }\n",
              "\n",
              "    .colab-df-convert:hover {\n",
              "      background-color: #E2EBFA;\n",
              "      box-shadow: 0px 1px 2px rgba(60, 64, 67, 0.3), 0px 1px 3px 1px rgba(60, 64, 67, 0.15);\n",
              "      fill: #174EA6;\n",
              "    }\n",
              "\n",
              "    [theme=dark] .colab-df-convert {\n",
              "      background-color: #3B4455;\n",
              "      fill: #D2E3FC;\n",
              "    }\n",
              "\n",
              "    [theme=dark] .colab-df-convert:hover {\n",
              "      background-color: #434B5C;\n",
              "      box-shadow: 0px 1px 3px 1px rgba(0, 0, 0, 0.15);\n",
              "      filter: drop-shadow(0px 1px 2px rgba(0, 0, 0, 0.3));\n",
              "      fill: #FFFFFF;\n",
              "    }\n",
              "  </style>\n",
              "\n",
              "      <script>\n",
              "        const buttonEl =\n",
              "          document.querySelector('#df-ba1b0174-1f34-4557-a1c9-5cd798f547dd button.colab-df-convert');\n",
              "        buttonEl.style.display =\n",
              "          google.colab.kernel.accessAllowed ? 'block' : 'none';\n",
              "\n",
              "        async function convertToInteractive(key) {\n",
              "          const element = document.querySelector('#df-ba1b0174-1f34-4557-a1c9-5cd798f547dd');\n",
              "          const dataTable =\n",
              "            await google.colab.kernel.invokeFunction('convertToInteractive',\n",
              "                                                     [key], {});\n",
              "          if (!dataTable) return;\n",
              "\n",
              "          const docLinkHtml = 'Like what you see? Visit the ' +\n",
              "            '<a target=\"_blank\" href=https://colab.research.google.com/notebooks/data_table.ipynb>data table notebook</a>'\n",
              "            + ' to learn more about interactive tables.';\n",
              "          element.innerHTML = '';\n",
              "          dataTable['output_type'] = 'display_data';\n",
              "          await google.colab.output.renderOutput(dataTable, element);\n",
              "          const docLink = document.createElement('div');\n",
              "          docLink.innerHTML = docLinkHtml;\n",
              "          element.appendChild(docLink);\n",
              "        }\n",
              "      </script>\n",
              "    </div>\n",
              "  </div>\n",
              "  "
            ]
          },
          "metadata": {},
          "execution_count": 10
        }
      ]
    },
    {
      "cell_type": "markdown",
      "source": [
        "#### **엘라스틱넷 회귀** <br/>\n",
        "L2 규제와 L1 규제를 결합한 회귀\n",
        "- 라쏘 회귀가 서로 상관관계가 높은 피처들의 경우에 이들 중에서 중요 피처만을 셀렉션하고, <Br/>\n",
        "다른 피처들은 모두 회귀 계수를 0으로 만드는 성향\n",
        "- alpha에 따라 회귀 계수의 값이 급격하게 변동할 수 있으므로, 라쏘 회귀에 L2 규제를 추가\n",
        "- 수행 시간이 상대적으로 오래 걸린다는 단점"
      ],
      "metadata": {
        "id": "NP2ImOZJmml-"
      }
    },
    {
      "cell_type": "code",
      "source": [
        "# 엘라스틱넷에 사용될 alpha 파라미터의 값들을 정의하고 get_linear_reg_eval() 함수 호출\n",
        "# l1_ratio는 0.7로 고정\n",
        "elastic_alphas = [ 0.07, 0.1, 0.5, 1, 3]\n",
        "coeff_elastic_df =get_linear_reg_eval('ElasticNet', params=elastic_alphas,\n",
        "                                      X_data_n=X_data, y_target_n=y_target)"
      ],
      "metadata": {
        "colab": {
          "base_uri": "https://localhost:8080/"
        },
        "id": "9mKGZ5ppmlPO",
        "outputId": "77a1d143-52bd-4235-a4c5-c921a85e4b2e"
      },
      "execution_count": 11,
      "outputs": [
        {
          "output_type": "stream",
          "name": "stdout",
          "text": [
            "#######  ElasticNet #######\n",
            "alpha 0.07일 때 5 폴드 세트의 평균 RMSE: 5.542 \n",
            "alpha 0.1일 때 5 폴드 세트의 평균 RMSE: 5.526 \n",
            "alpha 0.5일 때 5 폴드 세트의 평균 RMSE: 5.467 \n",
            "alpha 1일 때 5 폴드 세트의 평균 RMSE: 5.597 \n",
            "alpha 3일 때 5 폴드 세트의 평균 RMSE: 6.068 \n"
          ]
        }
      ]
    },
    {
      "cell_type": "code",
      "source": [
        "# 반환된 coeff_elastic_df를 첫번째 컬럼순으로 내림차순 정렬하여 회귀계수 DataFrame출력\n",
        "sort_column = 'alpha:'+str(elastic_alphas[0])\n",
        "coeff_elastic_df.sort_values(by=sort_column, ascending=False)"
      ],
      "metadata": {
        "colab": {
          "base_uri": "https://localhost:8080/",
          "height": 457
        },
        "id": "j8BSFsHVm6o7",
        "outputId": "deb39c93-6fc4-4e40-bfa6-c9ad6439368a"
      },
      "execution_count": 12,
      "outputs": [
        {
          "output_type": "execute_result",
          "data": {
            "text/plain": [
              "         alpha:0.07  alpha:0.1  alpha:0.5   alpha:1   alpha:3\n",
              "RM         3.574162   3.414154   1.918419  0.938789  0.000000\n",
              "CHAS       1.330724   0.979706   0.000000  0.000000  0.000000\n",
              "RAD        0.278880   0.283443   0.300761  0.289299  0.146846\n",
              "ZN         0.050107   0.050617   0.052878  0.052136  0.038268\n",
              "B          0.010122   0.010067   0.009114  0.008320  0.007020\n",
              "AGE       -0.010116  -0.008276   0.007760  0.020348  0.043446\n",
              "TAX       -0.014522  -0.014814  -0.016046 -0.016218 -0.011417\n",
              "INDUS     -0.044855  -0.042719  -0.023252 -0.000000 -0.000000\n",
              "CRIM      -0.099468  -0.099213  -0.089070 -0.073577 -0.019058\n",
              "NOX       -0.175072  -0.000000  -0.000000 -0.000000 -0.000000\n",
              "LSTAT     -0.574822  -0.587702  -0.693861 -0.760457 -0.800368\n",
              "PTRATIO   -0.779498  -0.784725  -0.790969 -0.738672 -0.423065\n",
              "DIS       -1.189438  -1.173647  -0.975902 -0.725174 -0.031208"
            ],
            "text/html": [
              "\n",
              "  <div id=\"df-f1e575e2-c835-48ad-993a-b071f0c71868\">\n",
              "    <div class=\"colab-df-container\">\n",
              "      <div>\n",
              "<style scoped>\n",
              "    .dataframe tbody tr th:only-of-type {\n",
              "        vertical-align: middle;\n",
              "    }\n",
              "\n",
              "    .dataframe tbody tr th {\n",
              "        vertical-align: top;\n",
              "    }\n",
              "\n",
              "    .dataframe thead th {\n",
              "        text-align: right;\n",
              "    }\n",
              "</style>\n",
              "<table border=\"1\" class=\"dataframe\">\n",
              "  <thead>\n",
              "    <tr style=\"text-align: right;\">\n",
              "      <th></th>\n",
              "      <th>alpha:0.07</th>\n",
              "      <th>alpha:0.1</th>\n",
              "      <th>alpha:0.5</th>\n",
              "      <th>alpha:1</th>\n",
              "      <th>alpha:3</th>\n",
              "    </tr>\n",
              "  </thead>\n",
              "  <tbody>\n",
              "    <tr>\n",
              "      <th>RM</th>\n",
              "      <td>3.574162</td>\n",
              "      <td>3.414154</td>\n",
              "      <td>1.918419</td>\n",
              "      <td>0.938789</td>\n",
              "      <td>0.000000</td>\n",
              "    </tr>\n",
              "    <tr>\n",
              "      <th>CHAS</th>\n",
              "      <td>1.330724</td>\n",
              "      <td>0.979706</td>\n",
              "      <td>0.000000</td>\n",
              "      <td>0.000000</td>\n",
              "      <td>0.000000</td>\n",
              "    </tr>\n",
              "    <tr>\n",
              "      <th>RAD</th>\n",
              "      <td>0.278880</td>\n",
              "      <td>0.283443</td>\n",
              "      <td>0.300761</td>\n",
              "      <td>0.289299</td>\n",
              "      <td>0.146846</td>\n",
              "    </tr>\n",
              "    <tr>\n",
              "      <th>ZN</th>\n",
              "      <td>0.050107</td>\n",
              "      <td>0.050617</td>\n",
              "      <td>0.052878</td>\n",
              "      <td>0.052136</td>\n",
              "      <td>0.038268</td>\n",
              "    </tr>\n",
              "    <tr>\n",
              "      <th>B</th>\n",
              "      <td>0.010122</td>\n",
              "      <td>0.010067</td>\n",
              "      <td>0.009114</td>\n",
              "      <td>0.008320</td>\n",
              "      <td>0.007020</td>\n",
              "    </tr>\n",
              "    <tr>\n",
              "      <th>AGE</th>\n",
              "      <td>-0.010116</td>\n",
              "      <td>-0.008276</td>\n",
              "      <td>0.007760</td>\n",
              "      <td>0.020348</td>\n",
              "      <td>0.043446</td>\n",
              "    </tr>\n",
              "    <tr>\n",
              "      <th>TAX</th>\n",
              "      <td>-0.014522</td>\n",
              "      <td>-0.014814</td>\n",
              "      <td>-0.016046</td>\n",
              "      <td>-0.016218</td>\n",
              "      <td>-0.011417</td>\n",
              "    </tr>\n",
              "    <tr>\n",
              "      <th>INDUS</th>\n",
              "      <td>-0.044855</td>\n",
              "      <td>-0.042719</td>\n",
              "      <td>-0.023252</td>\n",
              "      <td>-0.000000</td>\n",
              "      <td>-0.000000</td>\n",
              "    </tr>\n",
              "    <tr>\n",
              "      <th>CRIM</th>\n",
              "      <td>-0.099468</td>\n",
              "      <td>-0.099213</td>\n",
              "      <td>-0.089070</td>\n",
              "      <td>-0.073577</td>\n",
              "      <td>-0.019058</td>\n",
              "    </tr>\n",
              "    <tr>\n",
              "      <th>NOX</th>\n",
              "      <td>-0.175072</td>\n",
              "      <td>-0.000000</td>\n",
              "      <td>-0.000000</td>\n",
              "      <td>-0.000000</td>\n",
              "      <td>-0.000000</td>\n",
              "    </tr>\n",
              "    <tr>\n",
              "      <th>LSTAT</th>\n",
              "      <td>-0.574822</td>\n",
              "      <td>-0.587702</td>\n",
              "      <td>-0.693861</td>\n",
              "      <td>-0.760457</td>\n",
              "      <td>-0.800368</td>\n",
              "    </tr>\n",
              "    <tr>\n",
              "      <th>PTRATIO</th>\n",
              "      <td>-0.779498</td>\n",
              "      <td>-0.784725</td>\n",
              "      <td>-0.790969</td>\n",
              "      <td>-0.738672</td>\n",
              "      <td>-0.423065</td>\n",
              "    </tr>\n",
              "    <tr>\n",
              "      <th>DIS</th>\n",
              "      <td>-1.189438</td>\n",
              "      <td>-1.173647</td>\n",
              "      <td>-0.975902</td>\n",
              "      <td>-0.725174</td>\n",
              "      <td>-0.031208</td>\n",
              "    </tr>\n",
              "  </tbody>\n",
              "</table>\n",
              "</div>\n",
              "      <button class=\"colab-df-convert\" onclick=\"convertToInteractive('df-f1e575e2-c835-48ad-993a-b071f0c71868')\"\n",
              "              title=\"Convert this dataframe to an interactive table.\"\n",
              "              style=\"display:none;\">\n",
              "        \n",
              "  <svg xmlns=\"http://www.w3.org/2000/svg\" height=\"24px\"viewBox=\"0 0 24 24\"\n",
              "       width=\"24px\">\n",
              "    <path d=\"M0 0h24v24H0V0z\" fill=\"none\"/>\n",
              "    <path d=\"M18.56 5.44l.94 2.06.94-2.06 2.06-.94-2.06-.94-.94-2.06-.94 2.06-2.06.94zm-11 1L8.5 8.5l.94-2.06 2.06-.94-2.06-.94L8.5 2.5l-.94 2.06-2.06.94zm10 10l.94 2.06.94-2.06 2.06-.94-2.06-.94-.94-2.06-.94 2.06-2.06.94z\"/><path d=\"M17.41 7.96l-1.37-1.37c-.4-.4-.92-.59-1.43-.59-.52 0-1.04.2-1.43.59L10.3 9.45l-7.72 7.72c-.78.78-.78 2.05 0 2.83L4 21.41c.39.39.9.59 1.41.59.51 0 1.02-.2 1.41-.59l7.78-7.78 2.81-2.81c.8-.78.8-2.07 0-2.86zM5.41 20L4 18.59l7.72-7.72 1.47 1.35L5.41 20z\"/>\n",
              "  </svg>\n",
              "      </button>\n",
              "      \n",
              "  <style>\n",
              "    .colab-df-container {\n",
              "      display:flex;\n",
              "      flex-wrap:wrap;\n",
              "      gap: 12px;\n",
              "    }\n",
              "\n",
              "    .colab-df-convert {\n",
              "      background-color: #E8F0FE;\n",
              "      border: none;\n",
              "      border-radius: 50%;\n",
              "      cursor: pointer;\n",
              "      display: none;\n",
              "      fill: #1967D2;\n",
              "      height: 32px;\n",
              "      padding: 0 0 0 0;\n",
              "      width: 32px;\n",
              "    }\n",
              "\n",
              "    .colab-df-convert:hover {\n",
              "      background-color: #E2EBFA;\n",
              "      box-shadow: 0px 1px 2px rgba(60, 64, 67, 0.3), 0px 1px 3px 1px rgba(60, 64, 67, 0.15);\n",
              "      fill: #174EA6;\n",
              "    }\n",
              "\n",
              "    [theme=dark] .colab-df-convert {\n",
              "      background-color: #3B4455;\n",
              "      fill: #D2E3FC;\n",
              "    }\n",
              "\n",
              "    [theme=dark] .colab-df-convert:hover {\n",
              "      background-color: #434B5C;\n",
              "      box-shadow: 0px 1px 3px 1px rgba(0, 0, 0, 0.15);\n",
              "      filter: drop-shadow(0px 1px 2px rgba(0, 0, 0, 0.3));\n",
              "      fill: #FFFFFF;\n",
              "    }\n",
              "  </style>\n",
              "\n",
              "      <script>\n",
              "        const buttonEl =\n",
              "          document.querySelector('#df-f1e575e2-c835-48ad-993a-b071f0c71868 button.colab-df-convert');\n",
              "        buttonEl.style.display =\n",
              "          google.colab.kernel.accessAllowed ? 'block' : 'none';\n",
              "\n",
              "        async function convertToInteractive(key) {\n",
              "          const element = document.querySelector('#df-f1e575e2-c835-48ad-993a-b071f0c71868');\n",
              "          const dataTable =\n",
              "            await google.colab.kernel.invokeFunction('convertToInteractive',\n",
              "                                                     [key], {});\n",
              "          if (!dataTable) return;\n",
              "\n",
              "          const docLinkHtml = 'Like what you see? Visit the ' +\n",
              "            '<a target=\"_blank\" href=https://colab.research.google.com/notebooks/data_table.ipynb>data table notebook</a>'\n",
              "            + ' to learn more about interactive tables.';\n",
              "          element.innerHTML = '';\n",
              "          dataTable['output_type'] = 'display_data';\n",
              "          await google.colab.output.renderOutput(dataTable, element);\n",
              "          const docLink = document.createElement('div');\n",
              "          docLink.innerHTML = docLinkHtml;\n",
              "          element.appendChild(docLink);\n",
              "        }\n",
              "      </script>\n",
              "    </div>\n",
              "  </div>\n",
              "  "
            ]
          },
          "metadata": {},
          "execution_count": 12
        }
      ]
    },
    {
      "cell_type": "markdown",
      "source": [
        "#### **선형 회귀 모델을 위한 데이터 변환** <br/>\n",
        "선형 회귀 모델과 같은 선형 모델은 일반적으로 피처와 타깃값 간에 선형의 관계가 있다고 가정\n",
        "- 선형 회구 모델은 피처값과 타깃값의 분포가 정규 분포 형태를 매우 선호함\n",
        "- 타깃값의 경우 정규 분포 형태가 아닌 치우친 형태의 분포도일 경우 예측 성능에 부정적인 영향을 미침\n",
        "- 데이터에 대한 스케일링/정규화 작업을 수행하는 것이 일반적임"
      ],
      "metadata": {
        "id": "AFIpeYzom-KQ"
      }
    },
    {
      "cell_type": "markdown",
      "source": [
        "> **사이키런을 이용한 피처 데이터 세트 변환 작업** <br/>\n",
        "- StandardScaler 클래스를 이용해 평균이 0, 분산이 1인 표준 정규 분포를 가진 데이터 세트로 변환하거나 MinMaxScaler를 이용해 최솟값이 0이고 최댓값이 1인 값으로 정규화 수행\n",
        " - 예측 성능의 향상을 크게 기대하기 어려움\n",
        "- 스케일링/정규화를 수행한 데이터 세트에 다시 다항 특성을 적용해 변환\n",
        " - 피처의 개수가 많을 경우에 과적합 이슈 발생\n",
        "-  원래 값에 log 함수를 적용해 정규 분포에 가까운 형태로 값을 분포\n",
        " - 매우 유용한 변환이며, 앞서 소개한 방법보다 훨씬 많이 사용"
      ],
      "metadata": {
        "id": "h690vqg4nwPK"
      }
    },
    {
      "cell_type": "code",
      "source": [
        "from sklearn.linear_model import Ridge\n",
        "from sklearn.model_selection import cross_val_score\n",
        "\n",
        "# boston 데이타셋 로드\n",
        "boston = load_boston()\n",
        "\n",
        "# boston 데이타셋 DataFrame 변환 \n",
        "bostonDF = pd.DataFrame(boston.data , columns = boston.feature_names)\n",
        "\n",
        "# boston dataset의 target array는 주택 가격임. 이를 PRICE 컬럼으로 DataFrame에 추가함. \n",
        "bostonDF['PRICE'] = boston.target\n",
        "\n",
        "y_target = bostonDF['PRICE']\n",
        "X_data = bostonDF.drop(['PRICE'],axis=1,inplace=False)"
      ],
      "metadata": {
        "colab": {
          "base_uri": "https://localhost:8080/"
        },
        "id": "RVqiUqeRm8FQ",
        "outputId": "020df850-183f-49e7-9c7d-cc0231616cf1"
      },
      "execution_count": 13,
      "outputs": [
        {
          "output_type": "stream",
          "name": "stderr",
          "text": [
            "/usr/local/lib/python3.8/dist-packages/sklearn/utils/deprecation.py:87: FutureWarning: Function load_boston is deprecated; `load_boston` is deprecated in 1.0 and will be removed in 1.2.\n",
            "\n",
            "    The Boston housing prices dataset has an ethical problem. You can refer to\n",
            "    the documentation of this function for further details.\n",
            "\n",
            "    The scikit-learn maintainers therefore strongly discourage the use of this\n",
            "    dataset unless the purpose of the code is to study and educate about\n",
            "    ethical issues in data science and machine learning.\n",
            "\n",
            "    In this special case, you can fetch the dataset from the original\n",
            "    source::\n",
            "\n",
            "        import pandas as pd\n",
            "        import numpy as np\n",
            "\n",
            "\n",
            "        data_url = \"http://lib.stat.cmu.edu/datasets/boston\"\n",
            "        raw_df = pd.read_csv(data_url, sep=\"\\s+\", skiprows=22, header=None)\n",
            "        data = np.hstack([raw_df.values[::2, :], raw_df.values[1::2, :2]])\n",
            "        target = raw_df.values[1::2, 2]\n",
            "\n",
            "    Alternative datasets include the California housing dataset (i.e.\n",
            "    :func:`~sklearn.datasets.fetch_california_housing`) and the Ames housing\n",
            "    dataset. You can load the datasets as follows::\n",
            "\n",
            "        from sklearn.datasets import fetch_california_housing\n",
            "        housing = fetch_california_housing()\n",
            "\n",
            "    for the California housing dataset and::\n",
            "\n",
            "        from sklearn.datasets import fetch_openml\n",
            "        housing = fetch_openml(name=\"house_prices\", as_frame=True)\n",
            "\n",
            "    for the Ames housing dataset.\n",
            "    \n",
            "  warnings.warn(msg, category=FutureWarning)\n"
          ]
        }
      ]
    },
    {
      "cell_type": "code",
      "source": [
        "from sklearn.preprocessing import StandardScaler, MinMaxScaler, PolynomialFeatures\n",
        "\n",
        "# method는 표준 정규 분포 변환(Standard), 최대값/최소값 정규화(MinMax), 로그변환(Log) 결정\n",
        "# p_degree는 다향식 특성을 추가할 때 적용. p_degree는 2이상 부여하지 않음. \n",
        "def get_scaled_data(method='None', p_degree=None, input_data=None):\n",
        "    if method == 'Standard':\n",
        "        scaled_data = StandardScaler().fit_transform(input_data)\n",
        "    elif method == 'MinMax':\n",
        "        scaled_data = MinMaxScaler().fit_transform(input_data)\n",
        "    elif method == 'Log':\n",
        "        scaled_data = np.log1p(input_data)\n",
        "    else:\n",
        "        scaled_data = input_data\n",
        "\n",
        "    if p_degree != None:\n",
        "        scaled_data = PolynomialFeatures(degree=p_degree, \n",
        "                                         include_bias=False).fit_transform(scaled_data)\n",
        "    \n",
        "    return scaled_data"
      ],
      "metadata": {
        "id": "_heOekeAodJF"
      },
      "execution_count": 14,
      "outputs": []
    },
    {
      "cell_type": "code",
      "source": [
        "# Ridge의 alpha값을 다르게 적용하고 다양한 데이터 변환방법에 따른 RMSE 추출. \n",
        "alphas = [0.1, 1, 10, 100]\n",
        "#변환 방법은 모두 6개, 원본 그대로, 표준정규분포, 표준정규분포+다항식 특성\n",
        "# 최대/최소 정규화, 최대/최소 정규화+다항식 특성, 로그변환 \n",
        "scale_methods=[(None, None), ('Standard', None), ('Standard', 2), \n",
        "               ('MinMax', None), ('MinMax', 2), ('Log', None)]\n",
        "for scale_method in scale_methods:\n",
        "    X_data_scaled = get_scaled_data(method=scale_method[0], p_degree=scale_method[1], \n",
        "                                    input_data=X_data)\n",
        "    print('\\n## 변환 유형:{0}, Polynomial Degree:{1}'.format(scale_method[0], scale_method[1]))\n",
        "    get_linear_reg_eval('Ridge', params=alphas, X_data_n=X_data_scaled, \n",
        "                        y_target_n=y_target, verbose=False, return_coeff=False)"
      ],
      "metadata": {
        "colab": {
          "base_uri": "https://localhost:8080/"
        },
        "id": "9V6V0D_foedd",
        "outputId": "7e713963-b6b5-422f-af36-641af5e764c8"
      },
      "execution_count": 15,
      "outputs": [
        {
          "output_type": "stream",
          "name": "stdout",
          "text": [
            "\n",
            "## 변환 유형:None, Polynomial Degree:None\n",
            "alpha 0.1일 때 5 폴드 세트의 평균 RMSE: 5.788 \n",
            "alpha 1일 때 5 폴드 세트의 평균 RMSE: 5.653 \n",
            "alpha 10일 때 5 폴드 세트의 평균 RMSE: 5.518 \n",
            "alpha 100일 때 5 폴드 세트의 평균 RMSE: 5.330 \n",
            "\n",
            "## 변환 유형:Standard, Polynomial Degree:None\n",
            "alpha 0.1일 때 5 폴드 세트의 평균 RMSE: 5.826 \n",
            "alpha 1일 때 5 폴드 세트의 평균 RMSE: 5.803 \n",
            "alpha 10일 때 5 폴드 세트의 평균 RMSE: 5.637 \n",
            "alpha 100일 때 5 폴드 세트의 평균 RMSE: 5.421 \n",
            "\n",
            "## 변환 유형:Standard, Polynomial Degree:2\n",
            "alpha 0.1일 때 5 폴드 세트의 평균 RMSE: 8.827 \n",
            "alpha 1일 때 5 폴드 세트의 평균 RMSE: 6.871 \n",
            "alpha 10일 때 5 폴드 세트의 평균 RMSE: 5.485 \n",
            "alpha 100일 때 5 폴드 세트의 평균 RMSE: 4.634 \n",
            "\n",
            "## 변환 유형:MinMax, Polynomial Degree:None\n",
            "alpha 0.1일 때 5 폴드 세트의 평균 RMSE: 5.764 \n",
            "alpha 1일 때 5 폴드 세트의 평균 RMSE: 5.465 \n",
            "alpha 10일 때 5 폴드 세트의 평균 RMSE: 5.754 \n",
            "alpha 100일 때 5 폴드 세트의 평균 RMSE: 7.635 \n",
            "\n",
            "## 변환 유형:MinMax, Polynomial Degree:2\n",
            "alpha 0.1일 때 5 폴드 세트의 평균 RMSE: 5.298 \n",
            "alpha 1일 때 5 폴드 세트의 평균 RMSE: 4.323 \n",
            "alpha 10일 때 5 폴드 세트의 평균 RMSE: 5.185 \n",
            "alpha 100일 때 5 폴드 세트의 평균 RMSE: 6.538 \n",
            "\n",
            "## 변환 유형:Log, Polynomial Degree:None\n",
            "alpha 0.1일 때 5 폴드 세트의 평균 RMSE: 4.770 \n",
            "alpha 1일 때 5 폴드 세트의 평균 RMSE: 4.676 \n",
            "alpha 10일 때 5 폴드 세트의 평균 RMSE: 4.836 \n",
            "alpha 100일 때 5 폴드 세트의 평균 RMSE: 6.241 \n"
          ]
        }
      ]
    },
    {
      "cell_type": "markdown",
      "source": [
        "# **07) 로지스틱 회귀**"
      ],
      "metadata": {
        "id": "1wrEAiyiohX6"
      }
    },
    {
      "cell_type": "markdown",
      "source": [
        "#### **로지스틱 회귀란?** <br/>\n",
        "선형 회귀 방식을 분류에 적용한 알고리즘으로, 분류에 사용 됨\n",
        "- 선형 함수가 아닌 시그모이드 함수 최적선을 찾고 함수의 반환 값을 확률로 간주해 분류를 결정\n",
        "- 많은 자연, 사회 현상에서 특정 변수 확률 값은 시그모이드 함수와 같은 S자 커브 형태를 가짐"
      ],
      "metadata": {
        "id": "c-ihX-ZVoksw"
      }
    },
    {
      "cell_type": "code",
      "source": [
        "import pandas as pd\n",
        "import matplotlib.pyplot as plt\n",
        "%matplotlib inline\n",
        "\n",
        "from sklearn.datasets import load_breast_cancer\n",
        "from sklearn.linear_model import LogisticRegression\n",
        "\n",
        "cancer = load_breast_cancer()"
      ],
      "metadata": {
        "id": "W34zF1P2oflc"
      },
      "execution_count": 16,
      "outputs": []
    },
    {
      "cell_type": "code",
      "source": [
        "from sklearn.preprocessing import StandardScaler\n",
        "from sklearn.model_selection import train_test_split\n",
        "\n",
        "# StandardScaler( )로 평균이 0, 분산 1로 데이터 분포도 변환\n",
        "scaler = StandardScaler()\n",
        "data_scaled = scaler.fit_transform(cancer.data)\n",
        "\n",
        "X_train , X_test, y_train , y_test = train_test_split(data_scaled, cancer.target, test_size=0.3, random_state=0)"
      ],
      "metadata": {
        "id": "tMs_UmG2o5Fx"
      },
      "execution_count": 17,
      "outputs": []
    },
    {
      "cell_type": "code",
      "source": [
        "from sklearn.metrics import accuracy_score, roc_auc_score\n",
        "\n",
        "# 로지스틱 회귀를 이용하여 학습 및 예측 수행. \n",
        "# solver인자값을 생성자로 입력하지 않으면 solver='lbfgs'  \n",
        "lr_clf = LogisticRegression() # solver='lbfgs'\n",
        "lr_clf.fit(X_train, y_train)\n",
        "lr_preds = lr_clf.predict(X_test)\n",
        "\n",
        "# accuracy와 roc_auc 측정\n",
        "print('accuracy: {0:.3f}, roc_auc:{1:.3f}'.format(accuracy_score(y_test, lr_preds),\n",
        "                                                 roc_auc_score(y_test , lr_preds)))"
      ],
      "metadata": {
        "colab": {
          "base_uri": "https://localhost:8080/"
        },
        "id": "AepEsPfIo70L",
        "outputId": "04b97ec7-ae07-4be3-81bf-00c9de842ee4"
      },
      "execution_count": 18,
      "outputs": [
        {
          "output_type": "stream",
          "name": "stdout",
          "text": [
            "accuracy: 0.977, roc_auc:0.972\n"
          ]
        }
      ]
    },
    {
      "cell_type": "code",
      "source": [
        "solvers = ['lbfgs', 'liblinear', 'newton-cg', 'sag', 'saga']\n",
        "# 여러개의 solver값 별로 LogisticRegression 학습 후 성능 평가\n",
        "for solver in solvers:\n",
        "    lr_clf = LogisticRegression(solver=solver, max_iter=600)\n",
        "    lr_clf.fit(X_train, y_train)\n",
        "    lr_preds = lr_clf.predict(X_test)\n",
        "\n",
        "    # accuracy와 roc_auc 측정\n",
        "    print('solver:{0}, accuracy: {1:.3f}, roc_auc:{2:.3f}'.format(solver, \n",
        "                                                                  accuracy_score(y_test, lr_preds),\n",
        "                                                                  roc_auc_score(y_test , lr_preds)))  "
      ],
      "metadata": {
        "colab": {
          "base_uri": "https://localhost:8080/"
        },
        "id": "xfLwOuoPo9Cv",
        "outputId": "b82fc4c6-20b4-4c31-88cc-427db36f42d8"
      },
      "execution_count": 20,
      "outputs": [
        {
          "output_type": "stream",
          "name": "stdout",
          "text": [
            "solver:lbfgs, accuracy: 0.977, roc_auc:0.972\n",
            "solver:liblinear, accuracy: 0.982, roc_auc:0.979\n",
            "solver:newton-cg, accuracy: 0.977, roc_auc:0.972\n",
            "solver:sag, accuracy: 0.977, roc_auc:0.972\n",
            "solver:saga, accuracy: 0.982, roc_auc:0.979\n"
          ]
        }
      ]
    },
    {
      "cell_type": "code",
      "source": [
        "from sklearn.model_selection import GridSearchCV\n",
        "\n",
        "params={'solver':['liblinear', 'lbfgs'],\n",
        "        'penalty':['l2', 'l1'],\n",
        "        'C':[0.01, 0.1, 1, 1, 5, 10]}\n",
        "\n",
        "lr_clf = LogisticRegression()\n",
        "\n",
        "grid_clf = GridSearchCV(lr_clf, param_grid=params, scoring='accuracy', cv=3 )\n",
        "grid_clf.fit(data_scaled, cancer.target)\n",
        "print('최적 하이퍼 파라미터:{0}, 최적 평균 정확도:{1:.3f}'.format(grid_clf.best_params_, \n",
        "                                                  grid_clf.best_score_))"
      ],
      "metadata": {
        "colab": {
          "base_uri": "https://localhost:8080/"
        },
        "id": "yCwTPPico-V5",
        "outputId": "6a4baeba-fff3-494c-a15d-dfa306cf80b2"
      },
      "execution_count": 21,
      "outputs": [
        {
          "output_type": "stream",
          "name": "stdout",
          "text": [
            "최적 하이퍼 파라미터:{'C': 0.1, 'penalty': 'l2', 'solver': 'liblinear'}, 최적 평균 정확도:0.979\n"
          ]
        },
        {
          "output_type": "stream",
          "name": "stderr",
          "text": [
            "/usr/local/lib/python3.8/dist-packages/sklearn/model_selection/_validation.py:372: FitFailedWarning: \n",
            "18 fits failed out of a total of 72.\n",
            "The score on these train-test partitions for these parameters will be set to nan.\n",
            "If these failures are not expected, you can try to debug them by setting error_score='raise'.\n",
            "\n",
            "Below are more details about the failures:\n",
            "--------------------------------------------------------------------------------\n",
            "18 fits failed with the following error:\n",
            "Traceback (most recent call last):\n",
            "  File \"/usr/local/lib/python3.8/dist-packages/sklearn/model_selection/_validation.py\", line 680, in _fit_and_score\n",
            "    estimator.fit(X_train, y_train, **fit_params)\n",
            "  File \"/usr/local/lib/python3.8/dist-packages/sklearn/linear_model/_logistic.py\", line 1461, in fit\n",
            "    solver = _check_solver(self.solver, self.penalty, self.dual)\n",
            "  File \"/usr/local/lib/python3.8/dist-packages/sklearn/linear_model/_logistic.py\", line 447, in _check_solver\n",
            "    raise ValueError(\n",
            "ValueError: Solver lbfgs supports only 'l2' or 'none' penalties, got l1 penalty.\n",
            "\n",
            "  warnings.warn(some_fits_failed_message, FitFailedWarning)\n",
            "/usr/local/lib/python3.8/dist-packages/sklearn/model_selection/_search.py:969: UserWarning: One or more of the test scores are non-finite: [0.96485659 0.94555834 0.92261209        nan 0.97891024 0.97364708\n",
            " 0.96131997        nan 0.97539218 0.97539218 0.96660169        nan\n",
            " 0.97539218 0.97539218 0.96836536        nan 0.97011974 0.97011974\n",
            " 0.96662025        nan 0.96661097 0.96661097 0.96134781        nan]\n",
            "  warnings.warn(\n"
          ]
        }
      ]
    },
    {
      "cell_type": "markdown",
      "source": [
        "# **08) 회귀 트리** <br/>"
      ],
      "metadata": {
        "id": "ilTeLG3jpkSE"
      }
    },
    {
      "cell_type": "markdown",
      "source": [
        "#### **회귀 트리란?** <br/>\n",
        "회귀를 위한 트리를 생성하고 이를 기반으로 회귀 예측\n",
        "- 분류 트리가 특정 클래스 레이블을 결정하는 것과는 달리, <br/>\n",
        "회귀 트리는 리프 노드에 속한 데이터 값의 평균값을 구해 회귀 예측값을 계산\n",
        "- 결정 트리, 랜덤 포레스트, GBM, XGBoost, LightGBM 등의 모든 트리 기반 알고리즘에 사용 가능"
      ],
      "metadata": {
        "id": "nxjMMaqkppGJ"
      }
    },
    {
      "cell_type": "code",
      "source": [
        "from sklearn.datasets import load_boston\n",
        "from sklearn.model_selection import cross_val_score\n",
        "from sklearn.ensemble import RandomForestRegressor\n",
        "import pandas as pd\n",
        "import numpy as np\n",
        "import warnings\n",
        "warnings.filterwarnings('ignore')  #사이킷런 1.2 부터는 보스턴 주택가격 데이터가 없어진다는 warning 메시지 출력 제거\n",
        "\n",
        "# 보스턴 데이터 세트 로드\n",
        "boston = load_boston()\n",
        "bostonDF = pd.DataFrame(boston.data, columns = boston.feature_names)\n",
        "\n",
        "bostonDF['PRICE'] = boston.target\n",
        "y_target = bostonDF['PRICE']\n",
        "X_data = bostonDF.drop(['PRICE'], axis=1,inplace=False)\n",
        "\n",
        "rf = RandomForestRegressor(random_state=0, n_estimators=1000)\n",
        "neg_mse_scores = cross_val_score(rf, X_data, y_target, scoring=\"neg_mean_squared_error\", cv = 5)\n",
        "rmse_scores  = np.sqrt(-1 * neg_mse_scores)\n",
        "avg_rmse = np.mean(rmse_scores)\n",
        "\n",
        "print(' 5 교차 검증의 개별 Negative MSE scores: ', np.round(neg_mse_scores, 2))\n",
        "print(' 5 교차 검증의 개별 RMSE scores : ', np.round(rmse_scores, 2))\n",
        "print(' 5 교차 검증의 평균 RMSE : {0:.3f} '.format(avg_rmse))"
      ],
      "metadata": {
        "colab": {
          "base_uri": "https://localhost:8080/"
        },
        "id": "99J34sGtpBOD",
        "outputId": "9a78b0e6-2e02-4b08-e5a4-8172a487567b"
      },
      "execution_count": 22,
      "outputs": [
        {
          "output_type": "stream",
          "name": "stdout",
          "text": [
            " 5 교차 검증의 개별 Negative MSE scores:  [ -7.88 -13.14 -20.57 -46.23 -18.88]\n",
            " 5 교차 검증의 개별 RMSE scores :  [2.81 3.63 4.54 6.8  4.34]\n",
            " 5 교차 검증의 평균 RMSE : 4.423 \n"
          ]
        }
      ]
    },
    {
      "cell_type": "code",
      "source": [
        "def get_model_cv_prediction(model, X_data, y_target):\n",
        "    neg_mse_scores = cross_val_score(model, X_data, y_target, scoring=\"neg_mean_squared_error\", cv = 5)\n",
        "    rmse_scores  = np.sqrt(-1 * neg_mse_scores)\n",
        "    avg_rmse = np.mean(rmse_scores)\n",
        "    print('##### ',model.__class__.__name__ , ' #####')\n",
        "    print(' 5 교차 검증의 평균 RMSE : {0:.3f} '.format(avg_rmse))"
      ],
      "metadata": {
        "id": "AdhExJkTqMdR"
      },
      "execution_count": 23,
      "outputs": []
    },
    {
      "cell_type": "code",
      "source": [
        "from sklearn.tree import DecisionTreeRegressor\n",
        "from sklearn.ensemble import GradientBoostingRegressor\n",
        "from xgboost import XGBRegressor\n",
        "from lightgbm import LGBMRegressor\n",
        "\n",
        "dt_reg = DecisionTreeRegressor(random_state=0, max_depth=4)\n",
        "rf_reg = RandomForestRegressor(random_state=0, n_estimators=1000)\n",
        "gb_reg = GradientBoostingRegressor(random_state=0, n_estimators=1000)\n",
        "xgb_reg = XGBRegressor(n_estimators=1000)\n",
        "lgb_reg = LGBMRegressor(n_estimators=1000)\n",
        "\n",
        "# 트리 기반의 회귀 모델을 반복하면서 평가 수행 \n",
        "models = [dt_reg, rf_reg, gb_reg, xgb_reg, lgb_reg]\n",
        "for model in models:  \n",
        "    get_model_cv_prediction(model, X_data, y_target)"
      ],
      "metadata": {
        "colab": {
          "base_uri": "https://localhost:8080/"
        },
        "id": "8_O3wkrbqV4B",
        "outputId": "04d3472d-a0f9-44d1-cd83-e78e6efac2ab"
      },
      "execution_count": 24,
      "outputs": [
        {
          "output_type": "stream",
          "name": "stdout",
          "text": [
            "#####  DecisionTreeRegressor  #####\n",
            " 5 교차 검증의 평균 RMSE : 5.978 \n",
            "#####  RandomForestRegressor  #####\n",
            " 5 교차 검증의 평균 RMSE : 4.423 \n",
            "#####  GradientBoostingRegressor  #####\n",
            " 5 교차 검증의 평균 RMSE : 4.269 \n",
            "[08:07:16] WARNING: /workspace/src/objective/regression_obj.cu:152: reg:linear is now deprecated in favor of reg:squarederror.\n",
            "[08:07:18] WARNING: /workspace/src/objective/regression_obj.cu:152: reg:linear is now deprecated in favor of reg:squarederror.\n",
            "[08:07:19] WARNING: /workspace/src/objective/regression_obj.cu:152: reg:linear is now deprecated in favor of reg:squarederror.\n",
            "[08:07:20] WARNING: /workspace/src/objective/regression_obj.cu:152: reg:linear is now deprecated in favor of reg:squarederror.\n",
            "[08:07:20] WARNING: /workspace/src/objective/regression_obj.cu:152: reg:linear is now deprecated in favor of reg:squarederror.\n",
            "#####  XGBRegressor  #####\n",
            " 5 교차 검증의 평균 RMSE : 4.089 \n",
            "#####  LGBMRegressor  #####\n",
            " 5 교차 검증의 평균 RMSE : 4.646 \n"
          ]
        }
      ]
    },
    {
      "cell_type": "code",
      "source": [
        "import seaborn as sns\n",
        "%matplotlib inline\n",
        "\n",
        "rf_reg = RandomForestRegressor(n_estimators=1000)\n",
        "\n",
        "# 앞 예제에서 만들어진 X_data, y_target 데이터 셋을 적용하여 학습합니다.   \n",
        "rf_reg.fit(X_data, y_target)\n",
        "\n",
        "feature_series = pd.Series(data=rf_reg.feature_importances_, index=X_data.columns)\n",
        "feature_series = feature_series.sort_values(ascending=False)\n",
        "sns.barplot(x= feature_series, y=feature_series.index)"
      ],
      "metadata": {
        "colab": {
          "base_uri": "https://localhost:8080/",
          "height": 283
        },
        "id": "pH2ZUp8lqXLp",
        "outputId": "73f2b0e0-170e-4830-c624-23c6f61df7f6"
      },
      "execution_count": 25,
      "outputs": [
        {
          "output_type": "execute_result",
          "data": {
            "text/plain": [
              "<matplotlib.axes._subplots.AxesSubplot at 0x7f19e2efcd00>"
            ]
          },
          "metadata": {},
          "execution_count": 25
        },
        {
          "output_type": "display_data",
          "data": {
            "text/plain": [
              "<Figure size 432x288 with 1 Axes>"
            ],
            "image/png": "[encoded data removed]"
          },
          "metadata": {
            "needs_background": "light"
          }
        }
      ]
    },
    {
      "cell_type": "code",
      "source": [
        "import matplotlib.pyplot as plt\n",
        "%matplotlib inline\n",
        "\n",
        "bostonDF_sample = bostonDF[['RM','PRICE']]\n",
        "bostonDF_sample = bostonDF_sample.sample(n=100,random_state=0)\n",
        "print(bostonDF_sample.shape)\n",
        "plt.figure()\n",
        "plt.scatter(bostonDF_sample.RM , bostonDF_sample.PRICE,c=\"darkorange\")"
      ],
      "metadata": {
        "colab": {
          "base_uri": "https://localhost:8080/",
          "height": 301
        },
        "id": "FVFOa0_FqZJ4",
        "outputId": "e43eed4d-edf7-43a2-eca7-3f1e32ad4086"
      },
      "execution_count": 26,
      "outputs": [
        {
          "output_type": "stream",
          "name": "stdout",
          "text": [
            "(100, 2)\n"
          ]
        },
        {
          "output_type": "execute_result",
          "data": {
            "text/plain": [
              "<matplotlib.collections.PathCollection at 0x7f19ef2c9550>"
            ]
          },
          "metadata": {},
          "execution_count": 26
        },
        {
          "output_type": "display_data",
          "data": {
            "text/plain": [
              "<Figure size 432x288 with 1 Axes>"
            ],
            "image/png": "[encoded data removed]"
          },
          "metadata": {
            "needs_background": "light"
          }
        }
      ]
    },
    {
      "cell_type": "code",
      "source": [
        "import numpy as np\n",
        "from sklearn.linear_model import LinearRegression\n",
        "\n",
        "# 선형 회귀와 결정 트리 기반의 Regressor 생성. DecisionTreeRegressor의 max_depth는 각각 2, 7\n",
        "lr_reg = LinearRegression()\n",
        "rf_reg2 = DecisionTreeRegressor(max_depth=2)\n",
        "rf_reg7 = DecisionTreeRegressor(max_depth=7)\n",
        "\n",
        "# 실제 예측을 적용할 테스트용 데이터 셋을 4.5 ~ 8.5 까지 100개 데이터 셋 생성. \n",
        "X_test = np.arange(4.5, 8.5, 0.04).reshape(-1, 1)\n",
        "\n",
        "# 보스턴 주택가격 데이터에서 시각화를 위해 피처는 RM만, 그리고 결정 데이터인 PRICE 추출\n",
        "X_feature = bostonDF_sample['RM'].values.reshape(-1,1)\n",
        "y_target = bostonDF_sample['PRICE'].values.reshape(-1,1)\n",
        "\n",
        "# 학습과 예측 수행. \n",
        "lr_reg.fit(X_feature, y_target)\n",
        "rf_reg2.fit(X_feature, y_target)\n",
        "rf_reg7.fit(X_feature, y_target)\n",
        "\n",
        "pred_lr = lr_reg.predict(X_test)\n",
        "pred_rf2 = rf_reg2.predict(X_test)\n",
        "pred_rf7 = rf_reg7.predict(X_test)"
      ],
      "metadata": {
        "id": "LJNxp1LFqg96"
      },
      "execution_count": 27,
      "outputs": []
    },
    {
      "cell_type": "code",
      "source": [
        "fig , (ax1, ax2, ax3) = plt.subplots(figsize=(14,4), ncols=3)\n",
        "\n",
        "# X축값을 4.5 ~ 8.5로 변환하며 입력했을 때, 선형 회귀와 결정 트리 회귀 예측 선 시각화\n",
        "# 선형 회귀로 학습된 모델 회귀 예측선 \n",
        "ax1.set_title('Linear Regression')\n",
        "ax1.scatter(bostonDF_sample.RM, bostonDF_sample.PRICE, c=\"darkorange\")\n",
        "ax1.plot(X_test, pred_lr,label=\"linear\", linewidth=2 )\n",
        "\n",
        "# DecisionTreeRegressor의 max_depth를 2로 했을 때 회귀 예측선 \n",
        "ax2.set_title('Decision Tree Regression: \\n max_depth=2')\n",
        "ax2.scatter(bostonDF_sample.RM, bostonDF_sample.PRICE, c=\"darkorange\")\n",
        "ax2.plot(X_test, pred_rf2, label=\"max_depth:2\", linewidth=2 )\n",
        "\n",
        "# DecisionTreeRegressor의 max_depth를 7로 했을 때 회귀 예측선 \n",
        "ax3.set_title('Decision Tree Regression: \\n max_depth=7')\n",
        "ax3.scatter(bostonDF_sample.RM, bostonDF_sample.PRICE, c=\"darkorange\")\n",
        "ax3.plot(X_test, pred_rf7, label=\"max_depth:7\", linewidth=2)"
      ],
      "metadata": {
        "colab": {
          "base_uri": "https://localhost:8080/",
          "height": 258
        },
        "id": "gtL9EylUqi9P",
        "outputId": "1c4242c6-9c2b-4c01-d929-14a21649fedd"
      },
      "execution_count": 28,
      "outputs": [
        {
          "output_type": "execute_result",
          "data": {
            "text/plain": [
              "[<matplotlib.lines.Line2D at 0x7f19ef20bb20>]"
            ]
          },
          "metadata": {},
          "execution_count": 28
        },
        {
          "output_type": "display_data",
          "data": {
            "text/plain": [
              "<Figure size 1008x288 with 3 Axes>"
            ],
            "image/png": "[encoded data removed]"
          },
          "metadata": {
            "needs_background": "light"
          }
        }
      ]
    },
    {
      "cell_type": "code",
      "source": [],
      "metadata": {
        "id": "fd-TI6Luqwi4"
      },
      "execution_count": null,
      "outputs": []
    }
  ]
}